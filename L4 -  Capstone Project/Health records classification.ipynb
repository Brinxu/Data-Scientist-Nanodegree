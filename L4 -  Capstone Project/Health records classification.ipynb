{
 "cells": [
  {
   "cell_type": "markdown",
   "id": "a0475a2a",
   "metadata": {},
   "source": [
    "## Part 1:"
   ]
  },
  {
   "cell_type": "markdown",
   "id": "a9203828",
   "metadata": {},
   "source": [
    "## Reading the data:\n",
    "    For reading the data, we are using pandas, it will read the data from the data directory and load it into a dataframe."
   ]
  },
  {
   "cell_type": "code",
   "execution_count": 1,
   "id": "d51d9ad8",
   "metadata": {},
   "outputs": [
    {
     "data": {
      "text/html": [
       "<div>\n",
       "<style scoped>\n",
       "    .dataframe tbody tr th:only-of-type {\n",
       "        vertical-align: middle;\n",
       "    }\n",
       "\n",
       "    .dataframe tbody tr th {\n",
       "        vertical-align: top;\n",
       "    }\n",
       "\n",
       "    .dataframe thead th {\n",
       "        text-align: right;\n",
       "    }\n",
       "</style>\n",
       "<table border=\"1\" class=\"dataframe\">\n",
       "  <thead>\n",
       "    <tr style=\"text-align: right;\">\n",
       "      <th></th>\n",
       "      <th>PatientId</th>\n",
       "      <th>AppointmentID</th>\n",
       "      <th>Gender</th>\n",
       "      <th>ScheduledDay</th>\n",
       "      <th>AppointmentDay</th>\n",
       "      <th>Age</th>\n",
       "      <th>Neighbourhood</th>\n",
       "      <th>Scholarship</th>\n",
       "      <th>Hipertension</th>\n",
       "      <th>Diabetes</th>\n",
       "      <th>Alcoholism</th>\n",
       "      <th>Handcap</th>\n",
       "      <th>SMS_received</th>\n",
       "      <th>No-show</th>\n",
       "    </tr>\n",
       "  </thead>\n",
       "  <tbody>\n",
       "    <tr>\n",
       "      <th>0</th>\n",
       "      <td>2.987250e+13</td>\n",
       "      <td>5642903</td>\n",
       "      <td>F</td>\n",
       "      <td>2016-04-29T18:38:08Z</td>\n",
       "      <td>2016-04-29T00:00:00Z</td>\n",
       "      <td>62</td>\n",
       "      <td>JARDIM DA PENHA</td>\n",
       "      <td>0</td>\n",
       "      <td>1</td>\n",
       "      <td>0</td>\n",
       "      <td>0</td>\n",
       "      <td>0</td>\n",
       "      <td>0</td>\n",
       "      <td>No</td>\n",
       "    </tr>\n",
       "    <tr>\n",
       "      <th>1</th>\n",
       "      <td>5.589978e+14</td>\n",
       "      <td>5642503</td>\n",
       "      <td>M</td>\n",
       "      <td>2016-04-29T16:08:27Z</td>\n",
       "      <td>2016-04-29T00:00:00Z</td>\n",
       "      <td>56</td>\n",
       "      <td>JARDIM DA PENHA</td>\n",
       "      <td>0</td>\n",
       "      <td>0</td>\n",
       "      <td>0</td>\n",
       "      <td>0</td>\n",
       "      <td>0</td>\n",
       "      <td>0</td>\n",
       "      <td>No</td>\n",
       "    </tr>\n",
       "    <tr>\n",
       "      <th>2</th>\n",
       "      <td>4.262962e+12</td>\n",
       "      <td>5642549</td>\n",
       "      <td>F</td>\n",
       "      <td>2016-04-29T16:19:04Z</td>\n",
       "      <td>2016-04-29T00:00:00Z</td>\n",
       "      <td>62</td>\n",
       "      <td>MATA DA PRAIA</td>\n",
       "      <td>0</td>\n",
       "      <td>0</td>\n",
       "      <td>0</td>\n",
       "      <td>0</td>\n",
       "      <td>0</td>\n",
       "      <td>0</td>\n",
       "      <td>No</td>\n",
       "    </tr>\n",
       "    <tr>\n",
       "      <th>3</th>\n",
       "      <td>8.679512e+11</td>\n",
       "      <td>5642828</td>\n",
       "      <td>F</td>\n",
       "      <td>2016-04-29T17:29:31Z</td>\n",
       "      <td>2016-04-29T00:00:00Z</td>\n",
       "      <td>8</td>\n",
       "      <td>PONTAL DE CAMBURI</td>\n",
       "      <td>0</td>\n",
       "      <td>0</td>\n",
       "      <td>0</td>\n",
       "      <td>0</td>\n",
       "      <td>0</td>\n",
       "      <td>0</td>\n",
       "      <td>No</td>\n",
       "    </tr>\n",
       "    <tr>\n",
       "      <th>4</th>\n",
       "      <td>8.841186e+12</td>\n",
       "      <td>5642494</td>\n",
       "      <td>F</td>\n",
       "      <td>2016-04-29T16:07:23Z</td>\n",
       "      <td>2016-04-29T00:00:00Z</td>\n",
       "      <td>56</td>\n",
       "      <td>JARDIM DA PENHA</td>\n",
       "      <td>0</td>\n",
       "      <td>1</td>\n",
       "      <td>1</td>\n",
       "      <td>0</td>\n",
       "      <td>0</td>\n",
       "      <td>0</td>\n",
       "      <td>No</td>\n",
       "    </tr>\n",
       "  </tbody>\n",
       "</table>\n",
       "</div>"
      ],
      "text/plain": [
       "      PatientId  AppointmentID Gender          ScheduledDay  \\\n",
       "0  2.987250e+13        5642903      F  2016-04-29T18:38:08Z   \n",
       "1  5.589978e+14        5642503      M  2016-04-29T16:08:27Z   \n",
       "2  4.262962e+12        5642549      F  2016-04-29T16:19:04Z   \n",
       "3  8.679512e+11        5642828      F  2016-04-29T17:29:31Z   \n",
       "4  8.841186e+12        5642494      F  2016-04-29T16:07:23Z   \n",
       "\n",
       "         AppointmentDay  Age      Neighbourhood  Scholarship  Hipertension  \\\n",
       "0  2016-04-29T00:00:00Z   62    JARDIM DA PENHA            0             1   \n",
       "1  2016-04-29T00:00:00Z   56    JARDIM DA PENHA            0             0   \n",
       "2  2016-04-29T00:00:00Z   62      MATA DA PRAIA            0             0   \n",
       "3  2016-04-29T00:00:00Z    8  PONTAL DE CAMBURI            0             0   \n",
       "4  2016-04-29T00:00:00Z   56    JARDIM DA PENHA            0             1   \n",
       "\n",
       "   Diabetes  Alcoholism  Handcap  SMS_received No-show  \n",
       "0         0           0        0             0      No  \n",
       "1         0           0        0             0      No  \n",
       "2         0           0        0             0      No  \n",
       "3         0           0        0             0      No  \n",
       "4         1           0        0             0      No  "
      ]
     },
     "execution_count": 1,
     "metadata": {},
     "output_type": "execute_result"
    }
   ],
   "source": [
    "import pandas as pd\n",
    "import numpy as np\n",
    "\n",
    "import warnings\n",
    "warnings.filterwarnings('ignore')\n",
    "\n",
    "## Reference for downloading the data set : https://www.kaggle.com/joniarroba/noshowappointments\n",
    "df = pd.read_csv(\"data/KaggleV2-May-2016.csv\")\n",
    "df.head()"
   ]
  },
  {
   "cell_type": "markdown",
   "id": "ca1f8fa4",
   "metadata": {},
   "source": [
    "## Remove records with erroneous entries :\n",
    "\n",
    "    Missing data reduce the representativeness of the sample and can therefore distort inferences about the population. So we will check if our data set has any missing values in it."
   ]
  },
  {
   "cell_type": "code",
   "execution_count": 2,
   "id": "a0739560",
   "metadata": {},
   "outputs": [],
   "source": [
    "def get_percentage_missing(series):\n",
    "    \"\"\" Calculates percentage of NaN values in DataFrame\n",
    "    :param series: Pandas DataFrame object\n",
    "    :return: float\n",
    "    \"\"\"\n",
    "    num = series.isnull().sum()\n",
    "    den = len(series)\n",
    "    return round(num/den, 2)"
   ]
  },
  {
   "cell_type": "code",
   "execution_count": 3,
   "id": "a05e2141",
   "metadata": {},
   "outputs": [
    {
     "data": {
      "text/plain": [
       "PatientId         0.0\n",
       "AppointmentID     0.0\n",
       "Gender            0.0\n",
       "ScheduledDay      0.0\n",
       "AppointmentDay    0.0\n",
       "Age               0.0\n",
       "Neighbourhood     0.0\n",
       "Scholarship       0.0\n",
       "Hipertension      0.0\n",
       "Diabetes          0.0\n",
       "Alcoholism        0.0\n",
       "Handcap           0.0\n",
       "SMS_received      0.0\n",
       "No-show           0.0\n",
       "dtype: float64"
      ]
     },
     "execution_count": 3,
     "metadata": {},
     "output_type": "execute_result"
    }
   ],
   "source": [
    "get_percentage_missing(df)"
   ]
  },
  {
   "cell_type": "code",
   "execution_count": 4,
   "id": "17dd87fe",
   "metadata": {},
   "outputs": [
    {
     "data": {
      "image/png": "[encoded data removed]",
      "text/plain": [
       "<Figure size 1080x720 with 9 Axes>"
      ]
     },
     "metadata": {
      "needs_background": "light"
     },
     "output_type": "display_data"
    }
   ],
   "source": [
    "\n",
    "## Plotting all the numeric columns to get an idea of their data distribution\n",
    "\n",
    "import matplotlib.pyplot as plt\n",
    "df.hist(layout=(3,3), figsize=(15,10))\n",
    "\n",
    "plt.show()"
   ]
  },
  {
   "cell_type": "code",
   "execution_count": 5,
   "id": "028ab6aa",
   "metadata": {},
   "outputs": [
    {
     "name": "stdout",
     "output_type": "stream",
     "text": [
      "Columns excluded : PatientId & AppointmentID\n"
     ]
    }
   ],
   "source": [
    "## We will not be considering PatientID and Appointment ID in our training columns. Because our data samples are \n",
    "## independent and identically distributed so we can remove the sample IDs. It is given that all samples come \n",
    "## from or refer to the same source/object and they don't somehow identify the sample class.\n",
    "\n",
    "df.pop('PatientId')\n",
    "df.pop('AppointmentID')\n",
    "\n",
    "print(\"Columns excluded : PatientId & AppointmentID\")"
   ]
  },
  {
   "cell_type": "code",
   "execution_count": 6,
   "id": "5159b500",
   "metadata": {},
   "outputs": [],
   "source": [
    "## By looking at the distributions above, we saw that age variable has some erroneous entries in it, so we will\n",
    "## settle them first.\n",
    "\n",
    "## We know that age of a person cannot be less than zero or greater than a certain amount, so we will replace all\n",
    "##these erroneous entries with NaN, later on we will replace them in our pipeline.\n",
    "\n",
    "df['Age'] = df['Age'].mask(df['Age'].sub(df['Age'].mean()).div(df['Age'].std()).abs().gt(2))"
   ]
  },
  {
   "cell_type": "markdown",
   "id": "41184b99",
   "metadata": {},
   "source": [
    "## Seperating training and test data:"
   ]
  },
  {
   "cell_type": "code",
   "execution_count": 7,
   "id": "37ba5d86",
   "metadata": {},
   "outputs": [],
   "source": [
    "## Using stratified sampling on the No-show variable to ensure test set and training set class proportions \n",
    "## are the same\n",
    "\n",
    "\n",
    "from sklearn.model_selection import StratifiedShuffleSplit\n",
    "\n",
    "split = StratifiedShuffleSplit(n_splits=1, test_size=0.189, random_state=1234)\n",
    "for train_index, test_index in split.split(df, df[\"No-show\"]):\n",
    "    train_set = df.loc[train_index]\n",
    "    test_set = df.loc[test_index]"
   ]
  },
  {
   "cell_type": "code",
   "execution_count": 8,
   "id": "99f90470",
   "metadata": {},
   "outputs": [],
   "source": [
    "## Saving the train and test sets as csv files in the processed_data directory\n",
    "\n",
    "train_set.to_csv(\"./processed_data/Trainingdata.csv\",index=False)\n",
    "test_set.to_csv(\"./processed_data/Testdata.csv\",index=False)\n"
   ]
  },
  {
   "cell_type": "code",
   "execution_count": 9,
   "id": "56b91a8d",
   "metadata": {},
   "outputs": [],
   "source": [
    "## Seperating the independent and dependent variables\n",
    "X=train_set.loc[:, train_set.columns != 'No-show'] # It will contains all columns except our target column\n",
    "Y=train_set.loc[:, train_set.columns == 'No-show'] #It will contain target column"
   ]
  },
  {
   "cell_type": "markdown",
   "id": "64467150",
   "metadata": {},
   "source": [
    "## Plot the No-show variable against the other variables in the dataset:"
   ]
  },
  {
   "cell_type": "code",
   "execution_count": 10,
   "id": "4a06bd22",
   "metadata": {},
   "outputs": [],
   "source": [
    "#numerical features\n",
    "num_cols = X.select_dtypes([int, float]).columns\n",
    "\n",
    "## Converting target categorical column to numeric column\n",
    "\n",
    "from sklearn.preprocessing import LabelEncoder\n",
    "y_converted = LabelEncoder().fit_transform(np.ravel(Y))"
   ]
  },
  {
   "cell_type": "code",
   "execution_count": 11,
   "id": "d186ed50",
   "metadata": {
    "scrolled": true
   },
   "outputs": [
    {
     "data": {
      "image/png": "[encoded data removed]",
      "text/plain": [
       "<Figure size 432x288 with 1 Axes>"
      ]
     },
     "metadata": {
      "needs_background": "light"
     },
     "output_type": "display_data"
    },
    {
     "data": {
      "image/png": "[encoded data removed]",
      "text/plain": [
       "<Figure size 432x288 with 1 Axes>"
      ]
     },
     "metadata": {
      "needs_background": "light"
     },
     "output_type": "display_data"
    },
    {
     "data": {
      "image/png": "[encoded data removed]",
      "text/plain": [
       "<Figure size 432x288 with 1 Axes>"
      ]
     },
     "metadata": {
      "needs_background": "light"
     },
     "output_type": "display_data"
    },
    {
     "data": {
      "image/png": "[encoded data removed]",
      "text/plain": [
       "<Figure size 432x288 with 1 Axes>"
      ]
     },
     "metadata": {
      "needs_background": "light"
     },
     "output_type": "display_data"
    },
    {
     "data": {
      "image/png": "[encoded data removed]",
      "text/plain": [
       "<Figure size 432x288 with 1 Axes>"
      ]
     },
     "metadata": {
      "needs_background": "light"
     },
     "output_type": "display_data"
    },
    {
     "data": {
      "image/png": "[encoded data removed]",
      "text/plain": [
       "<Figure size 432x288 with 1 Axes>"
      ]
     },
     "metadata": {
      "needs_background": "light"
     },
     "output_type": "display_data"
    },
    {
     "data": {
      "image/png": "[encoded data removed]",
      "text/plain": [
       "<Figure size 432x288 with 1 Axes>"
      ]
     },
     "metadata": {
      "needs_background": "light"
     },
     "output_type": "display_data"
    }
   ],
   "source": [
    "for i in num_cols:\n",
    "    plt.plot(X[i],y_converted)\n",
    "    plt.title(i+\"Vs No-show \")\n",
    "    plt.xlabel(i+\"\")\n",
    "    plt.ylabel(\"No-show\")\n",
    "    plt.show()"
   ]
  },
  {
   "cell_type": "code",
   "execution_count": 12,
   "id": "b0e0c667",
   "metadata": {},
   "outputs": [
    {
     "name": "stdout",
     "output_type": "stream",
     "text": [
      "Requirement already satisfied: sklearn_pipeline_utils in /home/hassan/anaconda3/lib/python3.8/site-packages (0.11)\n",
      "Requirement already satisfied: sklearn_pandas in /home/hassan/anaconda3/lib/python3.8/site-packages (2.2.0)\n",
      "Requirement already satisfied: numpy>=1.18.1 in /home/hassan/anaconda3/lib/python3.8/site-packages (from sklearn_pandas) (1.21.2)\n",
      "Requirement already satisfied: scipy>=1.5.1 in /home/hassan/anaconda3/lib/python3.8/site-packages (from sklearn_pandas) (1.7.1)\n",
      "Requirement already satisfied: pandas>=1.1.4 in /home/hassan/anaconda3/lib/python3.8/site-packages (from sklearn_pandas) (1.2.4)\n",
      "Requirement already satisfied: scikit-learn>=0.23.0 in /home/hassan/anaconda3/lib/python3.8/site-packages (from sklearn_pandas) (0.24.1)\n",
      "Requirement already satisfied: python-dateutil>=2.7.3 in /home/hassan/anaconda3/lib/python3.8/site-packages (from pandas>=1.1.4->sklearn_pandas) (2.8.1)\n",
      "Requirement already satisfied: pytz>=2017.3 in /home/hassan/anaconda3/lib/python3.8/site-packages (from pandas>=1.1.4->sklearn_pandas) (2021.1)\n",
      "Requirement already satisfied: six>=1.5 in /home/hassan/anaconda3/lib/python3.8/site-packages (from python-dateutil>=2.7.3->pandas>=1.1.4->sklearn_pandas) (1.15.0)\n",
      "Requirement already satisfied: joblib>=0.11 in /home/hassan/anaconda3/lib/python3.8/site-packages (from scikit-learn>=0.23.0->sklearn_pandas) (1.0.1)\n",
      "Requirement already satisfied: threadpoolctl>=2.0.0 in /home/hassan/anaconda3/lib/python3.8/site-packages (from scikit-learn>=0.23.0->sklearn_pandas) (2.1.0)\n"
     ]
    }
   ],
   "source": [
    "!pip install sklearn_pipeline_utils\n",
    "!pip install sklearn_pandas"
   ]
  },
  {
   "cell_type": "markdown",
   "id": "c991f7ac",
   "metadata": {},
   "source": [
    "## Creating a preprocessing pipeline:"
   ]
  },
  {
   "cell_type": "code",
   "execution_count": 13,
   "id": "d24cbb35",
   "metadata": {},
   "outputs": [],
   "source": [
    "import numpy as np\n",
    "from sklearn.pipeline import Pipeline, make_pipeline\n",
    "\n",
    "from sklearn.preprocessing import FunctionTransformer\n",
    "from sklearn.base import BaseEstimator, TransformerMixin\n",
    "from sklearn_pandas import DataFrameMapper\n",
    "\n",
    "class CustomImputer(BaseEstimator, TransformerMixin):\n",
    "    def __init__(self, method='mean', to_fill_with='NA'):\n",
    "        self.method = method\n",
    "        self.fill = to_fill_with\n",
    "\n",
    "    def fit(self, X, y=None):\n",
    "        if self.method in ['mean', 'median']:\n",
    "            if not all([dtype in [np.number, np.int] for dtype in X.dtypes]):\n",
    "                raise ValueError('Only mean median and mode method is supported')\n",
    "        if self.method == 'mean':\n",
    "            self.fill = X.mean()\n",
    "        elif self.method == 'median':\n",
    "            self.fill = X.median()\n",
    "        elif self.method == 'mode':\n",
    "            self.fill = X.mode().iloc[0]\n",
    "        elif self.method == 'fill':\n",
    "            if type(self.fill) is list and type(X) is pd.DataFrame:\n",
    "                self.fill = dict([(cname, v) for cname, v in zip(X.columns, self.fill)])\n",
    "        return self\n",
    "\n",
    "    def transform(self, X, y=None):\n",
    "        return X.fillna(self.fill)"
   ]
  },
  {
   "cell_type": "code",
   "execution_count": 14,
   "id": "8ab19ff0",
   "metadata": {},
   "outputs": [],
   "source": [
    "## Making our own pipeline for numerical data\n",
    "\n",
    "numerical_data_pipeline = DataFrameMapper(\n",
    "        [(X.select_dtypes([int, float]).columns,\n",
    "        CustomImputer(method='median'), {'alias': 'numerical_data'}\n",
    "        )    \n",
    "        ],input_df=True ,df_out=True)\n",
    "\n",
    "\n",
    "\n",
    "from sklearn.preprocessing import StandardScaler\n",
    "from sklearn.preprocessing import MinMaxScaler\n",
    "\n",
    "scaled_numerical_pipeline = make_pipeline(\n",
    "    numerical_data_pipeline,\n",
    "    StandardScaler(),\n",
    "    MinMaxScaler()\n",
    ")\n",
    "\n"
   ]
  },
  {
   "cell_type": "code",
   "execution_count": 15,
   "id": "a85efc21",
   "metadata": {},
   "outputs": [
    {
     "data": {
      "text/html": [
       "<div>\n",
       "<style scoped>\n",
       "    .dataframe tbody tr th:only-of-type {\n",
       "        vertical-align: middle;\n",
       "    }\n",
       "\n",
       "    .dataframe tbody tr th {\n",
       "        vertical-align: top;\n",
       "    }\n",
       "\n",
       "    .dataframe thead th {\n",
       "        text-align: right;\n",
       "    }\n",
       "</style>\n",
       "<table border=\"1\" class=\"dataframe\">\n",
       "  <thead>\n",
       "    <tr style=\"text-align: right;\">\n",
       "      <th></th>\n",
       "      <th>numerical_data_0</th>\n",
       "      <th>numerical_data_1</th>\n",
       "      <th>numerical_data_2</th>\n",
       "      <th>numerical_data_3</th>\n",
       "      <th>numerical_data_4</th>\n",
       "      <th>numerical_data_5</th>\n",
       "      <th>numerical_data_6</th>\n",
       "    </tr>\n",
       "  </thead>\n",
       "  <tbody>\n",
       "    <tr>\n",
       "      <th>64781</th>\n",
       "      <td>35.0</td>\n",
       "      <td>0</td>\n",
       "      <td>0</td>\n",
       "      <td>0</td>\n",
       "      <td>0</td>\n",
       "      <td>0</td>\n",
       "      <td>1</td>\n",
       "    </tr>\n",
       "    <tr>\n",
       "      <th>33727</th>\n",
       "      <td>52.0</td>\n",
       "      <td>1</td>\n",
       "      <td>0</td>\n",
       "      <td>0</td>\n",
       "      <td>0</td>\n",
       "      <td>0</td>\n",
       "      <td>0</td>\n",
       "    </tr>\n",
       "    <tr>\n",
       "      <th>13711</th>\n",
       "      <td>12.0</td>\n",
       "      <td>0</td>\n",
       "      <td>0</td>\n",
       "      <td>0</td>\n",
       "      <td>0</td>\n",
       "      <td>0</td>\n",
       "      <td>0</td>\n",
       "    </tr>\n",
       "    <tr>\n",
       "      <th>104875</th>\n",
       "      <td>50.0</td>\n",
       "      <td>0</td>\n",
       "      <td>0</td>\n",
       "      <td>0</td>\n",
       "      <td>0</td>\n",
       "      <td>0</td>\n",
       "      <td>0</td>\n",
       "    </tr>\n",
       "    <tr>\n",
       "      <th>51299</th>\n",
       "      <td>17.0</td>\n",
       "      <td>0</td>\n",
       "      <td>0</td>\n",
       "      <td>0</td>\n",
       "      <td>0</td>\n",
       "      <td>0</td>\n",
       "      <td>1</td>\n",
       "    </tr>\n",
       "    <tr>\n",
       "      <th>...</th>\n",
       "      <td>...</td>\n",
       "      <td>...</td>\n",
       "      <td>...</td>\n",
       "      <td>...</td>\n",
       "      <td>...</td>\n",
       "      <td>...</td>\n",
       "      <td>...</td>\n",
       "    </tr>\n",
       "    <tr>\n",
       "      <th>94003</th>\n",
       "      <td>0.0</td>\n",
       "      <td>0</td>\n",
       "      <td>0</td>\n",
       "      <td>0</td>\n",
       "      <td>0</td>\n",
       "      <td>0</td>\n",
       "      <td>0</td>\n",
       "    </tr>\n",
       "    <tr>\n",
       "      <th>20314</th>\n",
       "      <td>18.0</td>\n",
       "      <td>0</td>\n",
       "      <td>0</td>\n",
       "      <td>0</td>\n",
       "      <td>0</td>\n",
       "      <td>0</td>\n",
       "      <td>0</td>\n",
       "    </tr>\n",
       "    <tr>\n",
       "      <th>83679</th>\n",
       "      <td>71.0</td>\n",
       "      <td>0</td>\n",
       "      <td>0</td>\n",
       "      <td>1</td>\n",
       "      <td>0</td>\n",
       "      <td>0</td>\n",
       "      <td>0</td>\n",
       "    </tr>\n",
       "    <tr>\n",
       "      <th>50014</th>\n",
       "      <td>36.0</td>\n",
       "      <td>0</td>\n",
       "      <td>0</td>\n",
       "      <td>0</td>\n",
       "      <td>0</td>\n",
       "      <td>0</td>\n",
       "      <td>0</td>\n",
       "    </tr>\n",
       "    <tr>\n",
       "      <th>10278</th>\n",
       "      <td>30.0</td>\n",
       "      <td>0</td>\n",
       "      <td>0</td>\n",
       "      <td>0</td>\n",
       "      <td>0</td>\n",
       "      <td>0</td>\n",
       "      <td>0</td>\n",
       "    </tr>\n",
       "  </tbody>\n",
       "</table>\n",
       "<p>89637 rows × 7 columns</p>\n",
       "</div>"
      ],
      "text/plain": [
       "        numerical_data_0  numerical_data_1  numerical_data_2  \\\n",
       "64781               35.0                 0                 0   \n",
       "33727               52.0                 1                 0   \n",
       "13711               12.0                 0                 0   \n",
       "104875              50.0                 0                 0   \n",
       "51299               17.0                 0                 0   \n",
       "...                  ...               ...               ...   \n",
       "94003                0.0                 0                 0   \n",
       "20314               18.0                 0                 0   \n",
       "83679               71.0                 0                 0   \n",
       "50014               36.0                 0                 0   \n",
       "10278               30.0                 0                 0   \n",
       "\n",
       "        numerical_data_3  numerical_data_4  numerical_data_5  numerical_data_6  \n",
       "64781                  0                 0                 0                 1  \n",
       "33727                  0                 0                 0                 0  \n",
       "13711                  0                 0                 0                 0  \n",
       "104875                 0                 0                 0                 0  \n",
       "51299                  0                 0                 0                 1  \n",
       "...                  ...               ...               ...               ...  \n",
       "94003                  0                 0                 0                 0  \n",
       "20314                  0                 0                 0                 0  \n",
       "83679                  1                 0                 0                 0  \n",
       "50014                  0                 0                 0                 0  \n",
       "10278                  0                 0                 0                 0  \n",
       "\n",
       "[89637 rows x 7 columns]"
      ]
     },
     "execution_count": 15,
     "metadata": {},
     "output_type": "execute_result"
    }
   ],
   "source": [
    "numerical_data_pipeline.fit_transform(X)"
   ]
  },
  {
   "cell_type": "code",
   "execution_count": 16,
   "id": "87d44746",
   "metadata": {},
   "outputs": [],
   "source": [
    "from sklearn.preprocessing import LabelBinarizer, OneHotEncoder,LabelEncoder\n",
    "from sklearn_pandas import gen_features\n",
    "\n",
    "impute_mode_cols = gen_features(\n",
    "    columns=X.select_dtypes('object').columns,\n",
    "    classes=[\n",
    "        {'class':CustomImputer,'method':'mode'},\n",
    "        {'class':LabelEncoder}\n",
    "    ]\n",
    ")"
   ]
  },
  {
   "cell_type": "code",
   "execution_count": 17,
   "id": "e946112f",
   "metadata": {},
   "outputs": [
    {
     "data": {
      "text/plain": [
       "array([[    0,  4137,     2,    38],\n",
       "       [    0, 45699,    10,    36],\n",
       "       [    0, 13767,    16,    24],\n",
       "       ...,\n",
       "       [    1,  8570,     4,    36],\n",
       "       [    0, 17503,    13,    39],\n",
       "       [    0, 35022,     5,    23]])"
      ]
     },
     "execution_count": 17,
     "metadata": {},
     "output_type": "execute_result"
    }
   ],
   "source": [
    "from sklearn.pipeline import FeatureUnion, make_union\n",
    "\n",
    "categorical_data_pipeline = make_union(\n",
    "    DataFrameMapper(impute_mode_cols, input_df=True, df_out=True)\n",
    ")\n",
    "categorical_data_pipeline.fit_transform(X)"
   ]
  },
  {
   "cell_type": "code",
   "execution_count": 18,
   "id": "423c47c0",
   "metadata": {},
   "outputs": [],
   "source": [
    "## Final pipeline for pre-processing our features\n",
    "features_pipeline = make_union(scaled_numerical_pipeline, \n",
    "                      categorical_data_pipeline)"
   ]
  },
  {
   "cell_type": "code",
   "execution_count": 19,
   "id": "f4e98208",
   "metadata": {},
   "outputs": [],
   "source": [
    "final_X = features_pipeline.fit_transform(X)"
   ]
  },
  {
   "cell_type": "code",
   "execution_count": 20,
   "id": "eefcd226",
   "metadata": {},
   "outputs": [],
   "source": [
    "final_dataframe = pd.concat([ pd.DataFrame(y_converted),pd.DataFrame(final_X)] ,axis=1)"
   ]
  },
  {
   "cell_type": "code",
   "execution_count": 21,
   "id": "949fc74b",
   "metadata": {},
   "outputs": [],
   "source": [
    "final_dataframe.to_csv(\"Trainingdata.csv\",index=False)"
   ]
  },
  {
   "cell_type": "markdown",
   "id": "d04d23d2",
   "metadata": {},
   "source": [
    "## Part 2:"
   ]
  },
  {
   "cell_type": "markdown",
   "id": "4f7d3a3d",
   "metadata": {},
   "source": [
    "## Reading the data:\n",
    "    For reading the data, we are using pandas, it will read the data from the preprocessed data directory and load it into a dataframe."
   ]
  },
  {
   "cell_type": "code",
   "execution_count": 22,
   "id": "9e0b00fc",
   "metadata": {},
   "outputs": [],
   "source": [
    "import pandas as pd\n",
    "\n",
    "import warnings ## To ignore the warnings\n",
    "warnings.filterwarnings('ignore')\n",
    "\n",
    "traindf = pd.read_csv(\"Trainingdata.csv\")\n"
   ]
  },
  {
   "cell_type": "markdown",
   "id": "0beb8654",
   "metadata": {},
   "source": [
    "## Seperating the independent and dependent variables"
   ]
  },
  {
   "cell_type": "code",
   "execution_count": 23,
   "id": "185199ea",
   "metadata": {},
   "outputs": [],
   "source": [
    "\n",
    "X_train=traindf.loc[:, traindf.columns != '0'] # It will contains all columns except our target column\n",
    "y_train=traindf.loc[:, traindf.columns == '0'] #It will contain target column"
   ]
  },
  {
   "cell_type": "markdown",
   "id": "89a28e2a",
   "metadata": {},
   "source": [
    "## K Fold cross validation:"
   ]
  },
  {
   "cell_type": "code",
   "execution_count": 24,
   "id": "82be1212",
   "metadata": {},
   "outputs": [],
   "source": [
    "from sklearn.model_selection import KFold\n",
    "import seaborn as sns\n",
    "from sklearn.metrics import accuracy_score,roc_auc_score\n",
    "import numpy as np\n",
    "import matplotlib.pyplot as plt\n",
    "\n",
    "\n",
    "def k_fold_cross_validation(training_columns, labels, Classifier, name_of_model): \n",
    " \n",
    "\n",
    "    kf = KFold( shuffle=True,n_splits=10)# Initializing KFold object with 10 as k-value\n",
    "    accs=[]\n",
    "    training_columns_train_array = []\n",
    "    labels_train_array = []\n",
    "    training_columns_test_array = []\n",
    "    labels_test_array = []\n",
    "    iter = 0\n",
    "    print(\"Applying K fold cv algorithm for :\", (name_of_model))\n",
    "    for training_indices, test_indices in kf.split(training_columns):\n",
    "        iter += 1\n",
    "        print(\"iter \", iter)\n",
    "        training_columns_train_cv, labels_train_cv = training_columns.iloc[training_indices], labels.iloc[training_indices]\n",
    "        training_columns_test_cv, labels_test_cv = training_columns.iloc[test_indices], labels.iloc[test_indices]\n",
    "        training_columns_train_array.append(training_columns_train_cv) # adding training score for  the given iteration\n",
    "        training_columns_test_array.append(training_columns_test_cv) # adding test score for iteration\n",
    "        labels_train_array.append(labels_train_cv)  # adding training labels for  the given iteration\n",
    "        labels_test_array.append(labels_test_cv)  # adding test labels for  the given iteration\n",
    "        print(\"Shape of training training_columns: \", training_columns_train_cv.shape)\n",
    "        print(\"Shape of test training_columns: \", training_columns_test_cv.shape)\n",
    "        Classifier.fit(training_columns_train_cv, labels_train_cv) \n",
    "        preds = Classifier.predict(training_columns_test_cv)\n",
    "        score = accuracy_score(preds, labels_test_cv) # Calculating acc\n",
    "        accs.append(score) # adding k-fold  acc for each iter\n",
    "    print(\"List of k-fold  accs for {}: \".format(name_of_model), accs)\n",
    "    average_acc = np.mean(accs)\n",
    "    print(\"\\nAverage k-fold  acc for {}: \".format(name_of_model), average_acc)\n",
    "    print(\"\\nBest k-fold  acc for {}: \".format(name_of_model), max(accs))\n",
    "    maximum_acc_index = accs.index(max(accs)) # best k-fold  acc\n",
    "    maximum_acc_training_columns_train = training_columns_train_array[maximum_acc_index] # training training_columns corresponding to best k-fold  acc\n",
    "    maximum_acc_training_columns_test = training_columns_test_array[maximum_acc_index] # test training_columns corresponding to best k-fold  acc\n",
    "    maximum_acc_labels_train = labels_train_array[maximum_acc_index] # training labels corresponding to best k-fold  acc\n",
    "    maximum_acc_labels_test = labels_test_array[maximum_acc_index] # test labels corresponding to best k-fold  acc\n",
    "\n",
    " \n",
    "\n",
    "    return average_acc, maximum_acc_training_columns_train, maximum_acc_training_columns_test, maximum_acc_labels_train, maximum_acc_labels_test,accs\n",
    "\n",
    "\n",
    "\n",
    "## To visualize the performance of each Classifier, we will be noting its  accuracy\n",
    "from sklearn.metrics import classification_report,confusion_matrix\n",
    "import seaborn as sns\n",
    "def evaluate(max_acc_data_train, max_acc_data_test, max_acc_targets_train, max_acc_targets_test, targets, regr): \n",
    "    regr.fit(max_acc_data_train, max_acc_targets_train) #\n",
    "    targets_pred = regr.predict(max_acc_data_test) # Prediction on test data\n",
    "    \n",
    "    print(\"roc_auc_score\")\n",
    "    rep = roc_auc_score(max_acc_targets_test, targets_pred)\n",
    "    print(rep)\n",
    "    \n",
    "    \n",
    "    "
   ]
  },
  {
   "cell_type": "markdown",
   "id": "da1679f0",
   "metadata": {},
   "source": [
    "## Simple Classification models with default parameters:"
   ]
  },
  {
   "cell_type": "code",
   "execution_count": 25,
   "id": "81201206",
   "metadata": {},
   "outputs": [
    {
     "name": "stdout",
     "output_type": "stream",
     "text": [
      "Applying K fold cv algorithm for : DT\n",
      "iter  1\n",
      "Shape of training training_columns:  (80673, 11)\n",
      "Shape of test training_columns:  (8964, 11)\n",
      "iter  2\n",
      "Shape of training training_columns:  (80673, 11)\n",
      "Shape of test training_columns:  (8964, 11)\n",
      "iter  3\n",
      "Shape of training training_columns:  (80673, 11)\n",
      "Shape of test training_columns:  (8964, 11)\n",
      "iter  4\n",
      "Shape of training training_columns:  (80673, 11)\n",
      "Shape of test training_columns:  (8964, 11)\n",
      "iter  5\n",
      "Shape of training training_columns:  (80673, 11)\n",
      "Shape of test training_columns:  (8964, 11)\n",
      "iter  6\n",
      "Shape of training training_columns:  (80673, 11)\n",
      "Shape of test training_columns:  (8964, 11)\n",
      "iter  7\n",
      "Shape of training training_columns:  (80673, 11)\n",
      "Shape of test training_columns:  (8964, 11)\n",
      "iter  8\n",
      "Shape of training training_columns:  (80674, 11)\n",
      "Shape of test training_columns:  (8963, 11)\n",
      "iter  9\n",
      "Shape of training training_columns:  (80674, 11)\n",
      "Shape of test training_columns:  (8963, 11)\n",
      "iter  10\n",
      "Shape of training training_columns:  (80674, 11)\n",
      "Shape of test training_columns:  (8963, 11)\n",
      "List of k-fold  accs for DT:  [0.8012048192771084, 0.8023203926818384, 0.7933958054439982, 0.7978580990629184, 0.7956269522534583, 0.8017626059794735, 0.7957385095939313, 0.7931496150842352, 0.801628918888765, 0.7979471159210086]\n",
      "\n",
      "Average k-fold  acc for DT:  0.7980632834186735\n",
      "\n",
      "Best k-fold  acc for DT:  0.8023203926818384\n",
      "roc_auc_score\n",
      "0.5\n"
     ]
    },
    {
     "data": {
      "image/png": "[encoded data removed]",
      "text/plain": [
       "<Figure size 432x288 with 1 Axes>"
      ]
     },
     "metadata": {
      "needs_background": "light"
     },
     "output_type": "display_data"
    }
   ],
   "source": [
    "from sklearn.tree import DecisionTreeClassifier\n",
    "\n",
    "\n",
    "clf = DecisionTreeClassifier(min_impurity_decrease=0.4) # DT Model\n",
    "DT_mean_accuracy, max_acc_data_train, max_acc_data_test, max_acc_targets_train, max_acc_targets_test,dt_scores = k_fold_cross_validation(X_train, y_train, clf, \"DT\") # cross-validation\n",
    "evaluate(max_acc_data_train, max_acc_data_test, max_acc_targets_train, max_acc_targets_test, y_train, clf) #  confusion matrix\n",
    "\n",
    "## Comparision through graphs\n",
    "\n",
    "\n",
    "## argument has accuracy values\n",
    "plt.plot(dt_scores,color='r',label=\"Decision Tree\")\n",
    "plt.legend(loc=\"best\")\n",
    "\n",
    "plt.title(\"Accuracy accross each fold\") ## Setting subtitle of fig 1\n",
    "plt.xlabel(\"Folds\") ## Setting x-label of fig 1\n",
    "plt.ylabel(\"Accuracy\"); ## Setting y-label of fig 1"
   ]
  },
  {
   "cell_type": "code",
   "execution_count": 26,
   "id": "369a82ff",
   "metadata": {},
   "outputs": [
    {
     "name": "stdout",
     "output_type": "stream",
     "text": [
      "Applying K fold cv algorithm for : RF\n",
      "iter  1\n",
      "Shape of training training_columns:  (80673, 11)\n",
      "Shape of test training_columns:  (8964, 11)\n",
      "iter  2\n",
      "Shape of training training_columns:  (80673, 11)\n",
      "Shape of test training_columns:  (8964, 11)\n",
      "iter  3\n",
      "Shape of training training_columns:  (80673, 11)\n",
      "Shape of test training_columns:  (8964, 11)\n",
      "iter  4\n",
      "Shape of training training_columns:  (80673, 11)\n",
      "Shape of test training_columns:  (8964, 11)\n",
      "iter  5\n",
      "Shape of training training_columns:  (80673, 11)\n",
      "Shape of test training_columns:  (8964, 11)\n",
      "iter  6\n",
      "Shape of training training_columns:  (80673, 11)\n",
      "Shape of test training_columns:  (8964, 11)\n",
      "iter  7\n",
      "Shape of training training_columns:  (80673, 11)\n",
      "Shape of test training_columns:  (8964, 11)\n",
      "iter  8\n",
      "Shape of training training_columns:  (80674, 11)\n",
      "Shape of test training_columns:  (8963, 11)\n",
      "iter  9\n",
      "Shape of training training_columns:  (80674, 11)\n",
      "Shape of test training_columns:  (8963, 11)\n",
      "iter  10\n",
      "Shape of training training_columns:  (80674, 11)\n",
      "Shape of test training_columns:  (8963, 11)\n",
      "List of k-fold  accs for RF:  [0.8007585899152164, 0.7959616242748773, 0.7962962962962963, 0.8003123605533244, 0.8004239178937974, 0.7918340026773761, 0.8027666220437305, 0.7930380452973335, 0.7979471159210086, 0.8012942095280599]\n",
      "\n",
      "Average k-fold  acc for RF:  0.798063278440102\n",
      "\n",
      "Best k-fold  acc for RF:  0.8027666220437305\n",
      "roc_auc_score\n",
      "0.5\n"
     ]
    },
    {
     "data": {
      "image/png": "[encoded data removed]",
      "text/plain": [
       "<Figure size 432x288 with 1 Axes>"
      ]
     },
     "metadata": {
      "needs_background": "light"
     },
     "output_type": "display_data"
    }
   ],
   "source": [
    "from sklearn.ensemble import RandomForestClassifier\n",
    "\n",
    "clf = RandomForestClassifier(min_impurity_decrease=0.3) # DT Model\n",
    "DT_mean_accuracy, max_acc_data_train, max_acc_data_test, max_acc_targets_train, max_acc_targets_test,dt_scores = k_fold_cross_validation(X_train, y_train, clf, \"RF\") # cross-validation\n",
    "evaluate(max_acc_data_train, max_acc_data_test, max_acc_targets_train, max_acc_targets_test, y_train, clf) #  confusion matrix\n",
    "\n",
    "## Comparision through graphs\n",
    "\n",
    "\n",
    "## argument has accuracy values\n",
    "plt.plot(dt_scores,color='r',label=\"Random Forest\")\n",
    "plt.legend(loc=\"best\")\n",
    "\n",
    "plt.title(\"Accuracy accross each fold\") ## Setting subtitle of fig 1\n",
    "plt.xlabel(\"Folds\") ## Setting x-label of fig 1\n",
    "plt.ylabel(\"Accuracy\"); ## Setting y-label of fig 1"
   ]
  },
  {
   "cell_type": "code",
   "execution_count": 27,
   "id": "c89ec301",
   "metadata": {},
   "outputs": [
    {
     "name": "stdout",
     "output_type": "stream",
     "text": [
      "Applying K fold cv algorithm for : LinearSVC\n",
      "iter  1\n",
      "Shape of training training_columns:  (80673, 11)\n",
      "Shape of test training_columns:  (8964, 11)\n",
      "iter  2\n",
      "Shape of training training_columns:  (80673, 11)\n",
      "Shape of test training_columns:  (8964, 11)\n",
      "iter  3\n",
      "Shape of training training_columns:  (80673, 11)\n",
      "Shape of test training_columns:  (8964, 11)\n",
      "iter  4\n",
      "Shape of training training_columns:  (80673, 11)\n",
      "Shape of test training_columns:  (8964, 11)\n",
      "iter  5\n",
      "Shape of training training_columns:  (80673, 11)\n",
      "Shape of test training_columns:  (8964, 11)\n",
      "iter  6\n",
      "Shape of training training_columns:  (80673, 11)\n",
      "Shape of test training_columns:  (8964, 11)\n",
      "iter  7\n",
      "Shape of training training_columns:  (80673, 11)\n",
      "Shape of test training_columns:  (8964, 11)\n",
      "iter  8\n",
      "Shape of training training_columns:  (80674, 11)\n",
      "Shape of test training_columns:  (8963, 11)\n",
      "iter  9\n",
      "Shape of training training_columns:  (80674, 11)\n",
      "Shape of test training_columns:  (8963, 11)\n",
      "iter  10\n",
      "Shape of training training_columns:  (80674, 11)\n",
      "Shape of test training_columns:  (8963, 11)\n",
      "List of k-fold  accs for LinearSVC:  [0.7974118697010263, 0.7176483712628291, 0.7559125390450692, 0.8017626059794735, 0.8023203926818384, 0.7966309683177153, 0.8007585899152164, 0.7971661274126967, 0.7970545576257949, 0.26341626687493025]\n",
      "\n",
      "Average k-fold  acc for LinearSVC:  0.7330082288816591\n",
      "\n",
      "Best k-fold  acc for LinearSVC:  0.8023203926818384\n",
      "roc_auc_score\n",
      "0.449375340546431\n"
     ]
    },
    {
     "data": {
      "image/png": "[encoded data removed]",
      "text/plain": [
       "<Figure size 432x288 with 1 Axes>"
      ]
     },
     "metadata": {
      "needs_background": "light"
     },
     "output_type": "display_data"
    }
   ],
   "source": [
    "from sklearn.svm import LinearSVC\n",
    "\n",
    "\n",
    "clf = LinearSVC() #  Model\n",
    "DT_mean_accuracy, max_acc_data_train, max_acc_data_test, max_acc_targets_train, max_acc_targets_test,dt_scores = k_fold_cross_validation(X_train, y_train, clf, \"LinearSVC\") # cross-validation\n",
    "evaluate(max_acc_data_train, max_acc_data_test, max_acc_targets_train, max_acc_targets_test, y_train, clf) #  confusion matrix\n",
    "\n",
    "## Comparision through graphs\n",
    "\n",
    "\n",
    "## argument has accuracy values\n",
    "plt.plot(dt_scores,color='r',label=\"LinearSVC \")\n",
    "plt.legend(loc=\"best\")\n",
    "\n",
    "plt.title(\"Accuracy accross each fold\") ## Setting subtitle of fig 1\n",
    "plt.xlabel(\"Folds\") ## Setting x-label of fig 1\n",
    "plt.ylabel(\"Accuracy\"); ## Setting y-label of fig 1"
   ]
  },
  {
   "cell_type": "code",
   "execution_count": 28,
   "id": "d0df2e55",
   "metadata": {},
   "outputs": [
    {
     "name": "stdout",
     "output_type": "stream",
     "text": [
      "Applying K fold cv algorithm for : SVC\n",
      "iter  1\n",
      "Shape of training training_columns:  (80673, 11)\n",
      "Shape of test training_columns:  (8964, 11)\n",
      "iter  2\n",
      "Shape of training training_columns:  (80673, 11)\n",
      "Shape of test training_columns:  (8964, 11)\n",
      "iter  3\n",
      "Shape of training training_columns:  (80673, 11)\n",
      "Shape of test training_columns:  (8964, 11)\n",
      "iter  4\n",
      "Shape of training training_columns:  (80673, 11)\n",
      "Shape of test training_columns:  (8964, 11)\n",
      "iter  5\n",
      "Shape of training training_columns:  (80673, 11)\n",
      "Shape of test training_columns:  (8964, 11)\n",
      "iter  6\n",
      "Shape of training training_columns:  (80673, 11)\n",
      "Shape of test training_columns:  (8964, 11)\n",
      "iter  7\n",
      "Shape of training training_columns:  (80673, 11)\n",
      "Shape of test training_columns:  (8964, 11)\n",
      "iter  8\n",
      "Shape of training training_columns:  (80674, 11)\n",
      "Shape of test training_columns:  (8963, 11)\n",
      "iter  9\n",
      "Shape of training training_columns:  (80674, 11)\n",
      "Shape of test training_columns:  (8963, 11)\n",
      "iter  10\n",
      "Shape of training training_columns:  (80674, 11)\n",
      "Shape of test training_columns:  (8963, 11)\n",
      "List of k-fold  accs for SVC:  [0.8028781793842035, 0.8007585899152164, 0.7967425256581883, 0.7948460508701473, 0.8003123605533244, 0.8012048192771084, 0.7933958054439982, 0.7993975231507308, 0.7970545576257949, 0.7940421733794488]\n",
      "\n",
      "Average k-fold  acc for SVC:  0.798063258525816\n",
      "\n",
      "Best k-fold  acc for SVC:  0.8028781793842035\n",
      "roc_auc_score\n",
      "0.5\n"
     ]
    },
    {
     "data": {
      "image/png": "[encoded data removed]",
      "text/plain": [
       "<Figure size 432x288 with 1 Axes>"
      ]
     },
     "metadata": {
      "needs_background": "light"
     },
     "output_type": "display_data"
    }
   ],
   "source": [
    "from sklearn.svm import SVC\n",
    "\n",
    "\n",
    "clf = SVC(kernel='rbf') #  Model\n",
    "DT_mean_accuracy, max_acc_data_train, max_acc_data_test, max_acc_targets_train, max_acc_targets_test,dt_scores = k_fold_cross_validation(X_train[:100000], y_train[:100000], clf, \"SVC\") # cross-validation\n",
    "evaluate(max_acc_data_train, max_acc_data_test, max_acc_targets_train, max_acc_targets_test, y_train, clf) #  confusion matrix\n",
    "\n",
    "## Comparision through graphs\n",
    "\n",
    "\n",
    "## argument has accuracy values\n",
    "plt.plot(dt_scores,color='r',label=\"SVC \")\n",
    "plt.legend(loc=\"best\")\n",
    "\n",
    "plt.title(\"Accuracy accross each fold\") ## Setting subtitle of fig 1\n",
    "plt.xlabel(\"Folds\") ## Setting x-label of fig 1\n",
    "plt.ylabel(\"Accuracy\"); ## Setting y-label of fig 1"
   ]
  },
  {
   "cell_type": "markdown",
   "id": "b58f935d",
   "metadata": {},
   "source": [
    "### Reporting estimated performances. "
   ]
  },
  {
   "cell_type": "markdown",
   "id": "b62e140a",
   "metadata": {},
   "source": [
    "| Classifier | AUC score | Accuracy |\n",
    "| --- | --- | --- |\n",
    "| RF | .56 | .79 |\n",
    "| DT | .60 | .73 |\n",
    "| Linear SVC | .5 | .80 |\n",
    "| Rbf SVC | .5 | .80 |\n"
   ]
  },
  {
   "cell_type": "markdown",
   "id": "5488d3b2",
   "metadata": {},
   "source": [
    "### Should you use accuracy or AUC as a metric for this task?"
   ]
  },
  {
   "cell_type": "markdown",
   "id": "16f00bd0",
   "metadata": {},
   "source": [
    "    AUC is in fact often preferred over accuracy for binary classification. Although both metrics have intuitive interpretations. For this task AUC is prefered. The reason for this is that computing the AUC is equivalent to defining a misclassification loss function (which reflects the relative gravity of misclassifying one class over the other), and averaging it over the distribution of the scores of the points in your dataset. The problem here is that those scores are produced by the fitted model, and as such they change whenever we change the model itself, be it the type of algorithm or just the parameters/hyperparameters."
   ]
  },
  {
   "cell_type": "markdown",
   "id": "7637c254",
   "metadata": {},
   "source": [
    "## Hyper parameter tuning:"
   ]
  },
  {
   "cell_type": "code",
   "execution_count": 29,
   "id": "b944d78d",
   "metadata": {},
   "outputs": [
    {
     "name": "stdout",
     "output_type": "stream",
     "text": [
      "Best: parameters {'max_depth': None, 'max_leaf_nodes': None, 'min_impurity_decrease': 0.1}\n"
     ]
    }
   ],
   "source": [
    "\n",
    "from sklearn.tree import DecisionTreeClassifier\n",
    "from sklearn.model_selection import RepeatedStratifiedKFold\n",
    "model = DecisionTreeClassifier()\n",
    "\n",
    "min_impurity_decreases = [0.1,0.5,0.8]\n",
    "max_depths = [None, 5, 10, 15]\n",
    "max_leaf_Nodes = [None, 10,100]\n",
    "# define grid search\n",
    "from sklearn.model_selection import GridSearchCV\n",
    "grid = dict(min_impurity_decrease=min_impurity_decreases,max_depth=max_depths,max_leaf_nodes=max_leaf_Nodes)\n",
    "cv = RepeatedStratifiedKFold(n_splits=10, n_repeats=3, random_state=1)\n",
    "grid_search = GridSearchCV(estimator=model, param_grid=grid, n_jobs=-1, cv=cv)\n",
    "grid_result = grid_search.fit(X_train, y_train)\n",
    "# summarize results\n",
    "\n",
    "print(\"Best: parameters %s\" % ( grid_result.best_params_))"
   ]
  },
  {
   "cell_type": "code",
   "execution_count": 30,
   "id": "fa0b109d",
   "metadata": {},
   "outputs": [
    {
     "name": "stdout",
     "output_type": "stream",
     "text": [
      "Fitting 3 folds for each of 72 candidates, totalling 216 fits\n"
     ]
    },
    {
     "data": {
      "text/plain": [
       "{'max_depth': 80,\n",
       " 'max_features': 2,\n",
       " 'min_samples_leaf': 3,\n",
       " 'min_samples_split': 8,\n",
       " 'n_estimators': 200}"
      ]
     },
     "execution_count": 30,
     "metadata": {},
     "output_type": "execute_result"
    }
   ],
   "source": [
    "\n",
    "# Create the parameter grid based on the results of random search \n",
    "param_grid = {\n",
    "    'max_depth': [80, 90],\n",
    "    'max_features': [2, 3],\n",
    "    'min_samples_leaf': [3, 4, 5],\n",
    "    'min_samples_split': [8, 10],\n",
    "    'n_estimators': [100, 200, 300]\n",
    "}\n",
    "# Create a based model\n",
    "rf = RandomForestClassifier()\n",
    "# Instantiate the grid search model\n",
    "grid_search = GridSearchCV(estimator = rf, param_grid = param_grid, \n",
    "                          cv = 3, n_jobs = -1, verbose = 3)\n",
    "\n",
    "\n",
    "# Fit the grid search to the data\n",
    "grid_search.fit(X_train, y_train)\n",
    "grid_search.best_params_"
   ]
  },
  {
   "cell_type": "code",
   "execution_count": 31,
   "id": "fb482d65",
   "metadata": {},
   "outputs": [
    {
     "name": "stdout",
     "output_type": "stream",
     "text": [
      "Applying K fold cv algorithm for : DT\n",
      "iter  1\n",
      "Shape of training training_columns:  (80673, 11)\n",
      "Shape of test training_columns:  (8964, 11)\n",
      "iter  2\n",
      "Shape of training training_columns:  (80673, 11)\n",
      "Shape of test training_columns:  (8964, 11)\n",
      "iter  3\n",
      "Shape of training training_columns:  (80673, 11)\n",
      "Shape of test training_columns:  (8964, 11)\n",
      "iter  4\n",
      "Shape of training training_columns:  (80673, 11)\n",
      "Shape of test training_columns:  (8964, 11)\n",
      "iter  5\n",
      "Shape of training training_columns:  (80673, 11)\n",
      "Shape of test training_columns:  (8964, 11)\n",
      "iter  6\n",
      "Shape of training training_columns:  (80673, 11)\n",
      "Shape of test training_columns:  (8964, 11)\n",
      "iter  7\n",
      "Shape of training training_columns:  (80673, 11)\n",
      "Shape of test training_columns:  (8964, 11)\n",
      "iter  8\n",
      "Shape of training training_columns:  (80674, 11)\n",
      "Shape of test training_columns:  (8963, 11)\n",
      "iter  9\n",
      "Shape of training training_columns:  (80674, 11)\n",
      "Shape of test training_columns:  (8963, 11)\n",
      "iter  10\n",
      "Shape of training training_columns:  (80674, 11)\n",
      "Shape of test training_columns:  (8963, 11)\n",
      "List of k-fold  accs for DT:  [0.7977465417224453, 0.7997545738509594, 0.8009817045961625, 0.7988621151271754, 0.7955153949129853, 0.7927264614011602, 0.7945113788487282, 0.8068726988731452, 0.7990628137900256, 0.7946000223139574]\n",
      "\n",
      "Average k-fold  acc for DT:  0.7980633705436745\n",
      "\n",
      "Best k-fold  acc for DT:  0.8068726988731452\n",
      "roc_auc_score\n",
      "0.5\n"
     ]
    },
    {
     "data": {
      "image/png": "[encoded data removed]",
      "text/plain": [
       "<Figure size 432x288 with 1 Axes>"
      ]
     },
     "metadata": {
      "needs_background": "light"
     },
     "output_type": "display_data"
    }
   ],
   "source": [
    "from sklearn.tree import DecisionTreeClassifier\n",
    "\n",
    "\n",
    "clf = DecisionTreeClassifier(max_depth=None, max_leaf_nodes=None, min_impurity_decrease=0.1) # DT Model\n",
    "DT_mean_accuracy, max_acc_data_train, max_acc_data_test, max_acc_targets_train, max_acc_targets_test,dt_scores = k_fold_cross_validation(X_train, y_train, clf, \"DT\") # cross-validation\n",
    "evaluate(max_acc_data_train, max_acc_data_test, max_acc_targets_train, max_acc_targets_test, y_train, clf) #  confusion matrix\n",
    "\n",
    "## Comparision through graphs\n",
    "\n",
    "\n",
    "## argument has accuracy values\n",
    "plt.plot(dt_scores,color='r',label=\"Decision Tree\")\n",
    "plt.legend(loc=\"best\")\n",
    "\n",
    "plt.title(\"Accuracy accross each fold\") ## Setting subtitle of fig 1\n",
    "plt.xlabel(\"Folds\") ## Setting x-label of fig 1\n",
    "plt.ylabel(\"Accuracy\"); ## Setting y-label of fig 1"
   ]
  },
  {
   "cell_type": "code",
   "execution_count": 32,
   "id": "65631c67",
   "metadata": {},
   "outputs": [
    {
     "name": "stdout",
     "output_type": "stream",
     "text": [
      "Applying K fold cv algorithm for : RF\n",
      "iter  1\n",
      "Shape of training training_columns:  (80673, 11)\n",
      "Shape of test training_columns:  (8964, 11)\n",
      "iter  2\n",
      "Shape of training training_columns:  (80673, 11)\n",
      "Shape of test training_columns:  (8964, 11)\n",
      "iter  3\n",
      "Shape of training training_columns:  (80673, 11)\n",
      "Shape of test training_columns:  (8964, 11)\n",
      "iter  4\n",
      "Shape of training training_columns:  (80673, 11)\n",
      "Shape of test training_columns:  (8964, 11)\n",
      "iter  5\n",
      "Shape of training training_columns:  (80673, 11)\n",
      "Shape of test training_columns:  (8964, 11)\n",
      "iter  6\n",
      "Shape of training training_columns:  (80673, 11)\n",
      "Shape of test training_columns:  (8964, 11)\n",
      "iter  7\n",
      "Shape of training training_columns:  (80673, 11)\n",
      "Shape of test training_columns:  (8964, 11)\n",
      "iter  8\n",
      "Shape of training training_columns:  (80674, 11)\n",
      "Shape of test training_columns:  (8963, 11)\n",
      "iter  9\n",
      "Shape of training training_columns:  (80674, 11)\n",
      "Shape of test training_columns:  (8963, 11)\n",
      "iter  10\n",
      "Shape of training training_columns:  (80674, 11)\n",
      "Shape of test training_columns:  (8963, 11)\n",
      "List of k-fold  accs for RF:  [0.7989736724676484, 0.7975234270414994, 0.8010932619366354, 0.8087907184292726, 0.7926149040606872, 0.8007585899152164, 0.7948460508701473, 0.8026330469708803, 0.8051991520696196, 0.8124511882182305]\n",
      "\n",
      "Average k-fold  acc for RF:  0.8014884011979836\n",
      "\n",
      "Best k-fold  acc for RF:  0.8124511882182305\n",
      "roc_auc_score\n",
      "0.5322651724652863\n"
     ]
    },
    {
     "data": {
      "image/png": "[encoded data removed]",
      "text/plain": [
       "<Figure size 432x288 with 1 Axes>"
      ]
     },
     "metadata": {
      "needs_background": "light"
     },
     "output_type": "display_data"
    }
   ],
   "source": [
    "from sklearn.ensemble import RandomForestClassifier\n",
    "\n",
    "clf = RandomForestClassifier(max_depth=80,\n",
    " max_features=3,\n",
    " min_samples_leaf=3,\n",
    " min_samples_split=10,\n",
    " n_estimators=100) # DT Model\n",
    "DT_mean_accuracy, max_acc_data_train, max_acc_data_test, max_acc_targets_train, max_acc_targets_test,dt_scores = k_fold_cross_validation(X_train, y_train, clf, \"RF\") # cross-validation\n",
    "evaluate(max_acc_data_train, max_acc_data_test, max_acc_targets_train, max_acc_targets_test, y_train, clf) #  confusion matrix\n",
    "\n",
    "## Comparision through graphs\n",
    "\n",
    "\n",
    "## argument has accuracy values\n",
    "plt.plot(dt_scores,color='r',label=\"Random Forest\")\n",
    "plt.legend(loc=\"best\")\n",
    "\n",
    "plt.title(\"Accuracy accross each fold\") ## Setting subtitle of fig 1\n",
    "plt.xlabel(\"Folds\") ## Setting x-label of fig 1\n",
    "plt.ylabel(\"Accuracy\"); ## Setting y-label of fig 1"
   ]
  },
  {
   "cell_type": "markdown",
   "id": "b87d3206",
   "metadata": {},
   "source": [
    "###  Estimated performance for the tuned classifiers."
   ]
  },
  {
   "cell_type": "markdown",
   "id": "c07ee16b",
   "metadata": {},
   "source": [
    "| Classifier | AUC score | Accuracy |\n",
    "| --- | --- | --- |\n",
    "| RF | .52 | .80 |\n",
    "| DT | .5 | .80 |"
   ]
  },
  {
   "cell_type": "markdown",
   "id": "447d467a",
   "metadata": {},
   "source": [
    "## SVM:"
   ]
  },
  {
   "cell_type": "code",
   "execution_count": 33,
   "id": "9788d840",
   "metadata": {},
   "outputs": [],
   "source": [
    "class svc:\n",
    "    def __init__(self , C = 0.01 , number_of_iterations = 100 , learning_rate = 0.1):\n",
    " \n",
    "        self.c = C\n",
    "        self.iteration = number_of_iterations\n",
    "        self.lr = learning_rate\n",
    "            \n",
    "    def fit(self , x , y):\n",
    "        self.x = x\n",
    "        self.y = y\n",
    "        \n",
    "        w = np.zeros([1 , x.shape[1]])\n",
    "        b = 0\n",
    "        \n",
    "        costs = np.zeros(self.iteration)\n",
    "        for i in range(self.iteration):\n",
    "            cost = x @ w.T + b\n",
    "            b = b - self.lr * self.c * sum(cost - y) \n",
    "            w = w - self.lr * self.c * sum((cost - y)*x) \n",
    "            costs[i] = self.c * sum( (y * cost)  + (1 - y)*cost ) + (1/2)* sum(w.T**2)\n",
    "        \n",
    "        self.w = w\n",
    "        self.b = b \n",
    "        self.costs = costs\n",
    "        \n",
    "    \n",
    "    def predict(self , x_test):\n",
    "        pred_y =  []\n",
    "        svc = x_test @ self.w.T + self.b\n",
    "        for i in svc:\n",
    "            if i >= 0:\n",
    "                pred_y.append(1)\n",
    "            else:\n",
    "                pred_y.append(0)\n",
    "        \n",
    "        return pred_y"
   ]
  },
  {
   "cell_type": "code",
   "execution_count": 34,
   "id": "a398b2bc",
   "metadata": {},
   "outputs": [],
   "source": [
    "clf = svc()\n",
    "\n",
    "clf.fit(X_train.values, y_train.values.reshape([len(y_train) , 1]))"
   ]
  },
  {
   "cell_type": "code",
   "execution_count": 35,
   "id": "9ed4add8",
   "metadata": {},
   "outputs": [
    {
     "name": "stdout",
     "output_type": "stream",
     "text": [
      "Accuracy for our custom SVM is 0.79806329975345\n"
     ]
    }
   ],
   "source": [
    "preds = clf.predict(X_train.values)\n",
    "print(\"Accuracy for our custom SVM is\",accuracy_score(preds,y_train))\n"
   ]
  },
  {
   "cell_type": "markdown",
   "id": "6095957d",
   "metadata": {},
   "source": [
    "### Performance comparison"
   ]
  },
  {
   "cell_type": "markdown",
   "id": "d459230d",
   "metadata": {},
   "source": [
    "    We have very similar results for SVM implemented in sklearn and our own custome implementation.  In the case of the simple SVM we used \"linear\" kernel. However, the performance of sklearn provides rbf kernel too, which has better performance than simple linear classsifier."
   ]
  },
  {
   "cell_type": "markdown",
   "id": "1b57f6e5",
   "metadata": {},
   "source": [
    "## Part 3:"
   ]
  },
  {
   "cell_type": "markdown",
   "id": "8b0aea1c",
   "metadata": {},
   "source": [
    "## Training an AdaBoost classifier:"
   ]
  },
  {
   "cell_type": "code",
   "execution_count": 36,
   "id": "3c574c17",
   "metadata": {
    "scrolled": true
   },
   "outputs": [
    {
     "name": "stdout",
     "output_type": "stream",
     "text": [
      "Applying K fold cv algorithm for : AB\n",
      "iter  1\n",
      "Shape of training training_columns:  (80673, 11)\n",
      "Shape of test training_columns:  (8964, 11)\n",
      "iter  2\n",
      "Shape of training training_columns:  (80673, 11)\n",
      "Shape of test training_columns:  (8964, 11)\n",
      "iter  3\n",
      "Shape of training training_columns:  (80673, 11)\n",
      "Shape of test training_columns:  (8964, 11)\n",
      "iter  4\n",
      "Shape of training training_columns:  (80673, 11)\n",
      "Shape of test training_columns:  (8964, 11)\n",
      "iter  5\n",
      "Shape of training training_columns:  (80673, 11)\n",
      "Shape of test training_columns:  (8964, 11)\n",
      "iter  6\n",
      "Shape of training training_columns:  (80673, 11)\n",
      "Shape of test training_columns:  (8964, 11)\n",
      "iter  7\n",
      "Shape of training training_columns:  (80673, 11)\n",
      "Shape of test training_columns:  (8964, 11)\n",
      "iter  8\n",
      "Shape of training training_columns:  (80674, 11)\n",
      "Shape of test training_columns:  (8963, 11)\n",
      "iter  9\n",
      "Shape of training training_columns:  (80674, 11)\n",
      "Shape of test training_columns:  (8963, 11)\n",
      "iter  10\n",
      "Shape of training training_columns:  (80674, 11)\n",
      "Shape of test training_columns:  (8963, 11)\n",
      "List of k-fold  accs for AB:  [0.8006470325747435, 0.7920571173583222, 0.7977465417224453, 0.8022088353413654, 0.7929495760821063, 0.786144578313253, 0.7933958054439982, 0.7942653129532523, 0.7944884525270557, 0.787905835099855]\n",
      "\n",
      "Average k-fold  acc for AB:  0.7941809087416396\n",
      "\n",
      "Best k-fold  acc for AB:  0.8022088353413654\n",
      "roc_auc_score\n",
      "0.5044818777347801\n"
     ]
    },
    {
     "data": {
      "image/png": "[encoded data removed]",
      "text/plain": [
       "<Figure size 432x288 with 1 Axes>"
      ]
     },
     "metadata": {
      "needs_background": "light"
     },
     "output_type": "display_data"
    }
   ],
   "source": [
    "from sklearn.ensemble import AdaBoostClassifier\n",
    "\n",
    "clf = AdaBoostClassifier() # AD Model\n",
    "DT_mean_accuracy, max_acc_data_train, max_acc_data_test, max_acc_targets_train, max_acc_targets_test,dt_scores = k_fold_cross_validation(X_train, y_train, clf, \"AB\") # cross-validation\n",
    "evaluate(max_acc_data_train, max_acc_data_test, max_acc_targets_train, max_acc_targets_test, y_train, clf) #  confusion matrix\n",
    "\n",
    "## Comparision through graphs\n",
    "\n",
    "\n",
    "\n",
    "## argument has accuracy values\n",
    "plt.plot(dt_scores,color='r',label=\" AdaBoostClassifier\")\n",
    "plt.legend(loc=\"best\")\n",
    "\n",
    "plt.title(\"Accuracy accross each fold\") ## Setting subtitle of fig 1\n",
    "plt.xlabel(\"Folds\") ## Setting x-label of fig 1\n",
    "plt.ylabel(\"Accuracy\"); ## Setting y-label of fig 1"
   ]
  },
  {
   "cell_type": "markdown",
   "id": "0019c5bb",
   "metadata": {},
   "source": [
    "## Train an XGBoost classifier:"
   ]
  },
  {
   "cell_type": "code",
   "execution_count": 37,
   "id": "e60e66c9",
   "metadata": {},
   "outputs": [
    {
     "name": "stdout",
     "output_type": "stream",
     "text": [
      "Applying K fold cv algorithm for : XGB\n",
      "iter  1\n",
      "Shape of training training_columns:  (80673, 11)\n",
      "Shape of test training_columns:  (8964, 11)\n",
      "[14:37:56] WARNING: ../src/learner.cc:1115: Starting in XGBoost 1.3.0, the default evaluation metric used with the objective 'binary:logistic' was changed from 'error' to 'logloss'. Explicitly set eval_metric if you'd like to restore the old behavior.\n",
      "iter  2\n",
      "Shape of training training_columns:  (80673, 11)\n",
      "Shape of test training_columns:  (8964, 11)\n",
      "[14:37:59] WARNING: ../src/learner.cc:1115: Starting in XGBoost 1.3.0, the default evaluation metric used with the objective 'binary:logistic' was changed from 'error' to 'logloss'. Explicitly set eval_metric if you'd like to restore the old behavior.\n",
      "iter  3\n",
      "Shape of training training_columns:  (80673, 11)\n",
      "Shape of test training_columns:  (8964, 11)\n",
      "[14:38:02] WARNING: ../src/learner.cc:1115: Starting in XGBoost 1.3.0, the default evaluation metric used with the objective 'binary:logistic' was changed from 'error' to 'logloss'. Explicitly set eval_metric if you'd like to restore the old behavior.\n",
      "iter  4\n",
      "Shape of training training_columns:  (80673, 11)\n",
      "Shape of test training_columns:  (8964, 11)\n",
      "[14:38:06] WARNING: ../src/learner.cc:1115: Starting in XGBoost 1.3.0, the default evaluation metric used with the objective 'binary:logistic' was changed from 'error' to 'logloss'. Explicitly set eval_metric if you'd like to restore the old behavior.\n",
      "iter  5\n",
      "Shape of training training_columns:  (80673, 11)\n",
      "Shape of test training_columns:  (8964, 11)\n",
      "[14:38:10] WARNING: ../src/learner.cc:1115: Starting in XGBoost 1.3.0, the default evaluation metric used with the objective 'binary:logistic' was changed from 'error' to 'logloss'. Explicitly set eval_metric if you'd like to restore the old behavior.\n",
      "iter  6\n",
      "Shape of training training_columns:  (80673, 11)\n",
      "Shape of test training_columns:  (8964, 11)\n",
      "[14:38:13] WARNING: ../src/learner.cc:1115: Starting in XGBoost 1.3.0, the default evaluation metric used with the objective 'binary:logistic' was changed from 'error' to 'logloss'. Explicitly set eval_metric if you'd like to restore the old behavior.\n",
      "iter  7\n",
      "Shape of training training_columns:  (80673, 11)\n",
      "Shape of test training_columns:  (8964, 11)\n",
      "[14:38:17] WARNING: ../src/learner.cc:1115: Starting in XGBoost 1.3.0, the default evaluation metric used with the objective 'binary:logistic' was changed from 'error' to 'logloss'. Explicitly set eval_metric if you'd like to restore the old behavior.\n",
      "iter  8\n",
      "Shape of training training_columns:  (80674, 11)\n",
      "Shape of test training_columns:  (8963, 11)\n",
      "[14:38:21] WARNING: ../src/learner.cc:1115: Starting in XGBoost 1.3.0, the default evaluation metric used with the objective 'binary:logistic' was changed from 'error' to 'logloss'. Explicitly set eval_metric if you'd like to restore the old behavior.\n",
      "iter  9\n",
      "Shape of training training_columns:  (80674, 11)\n",
      "Shape of test training_columns:  (8963, 11)\n",
      "[14:38:24] WARNING: ../src/learner.cc:1115: Starting in XGBoost 1.3.0, the default evaluation metric used with the objective 'binary:logistic' was changed from 'error' to 'logloss'. Explicitly set eval_metric if you'd like to restore the old behavior.\n",
      "iter  10\n",
      "Shape of training training_columns:  (80674, 11)\n",
      "Shape of test training_columns:  (8963, 11)\n",
      "[14:38:29] WARNING: ../src/learner.cc:1115: Starting in XGBoost 1.3.0, the default evaluation metric used with the objective 'binary:logistic' was changed from 'error' to 'logloss'. Explicitly set eval_metric if you'd like to restore the old behavior.\n",
      "List of k-fold  accs for XGB:  [0.7980812137438643, 0.8028781793842035, 0.8002008032128514, 0.7949576082106202, 0.8123605533244087, 0.7975234270414994, 0.8027666220437305, 0.803525605266094, 0.7969429878388933, 0.7992859533638291]\n",
      "\n",
      "Average k-fold  acc for XGB:  0.8008522953429994\n",
      "\n",
      "Best k-fold  acc for XGB:  0.8123605533244087\n",
      "[14:38:33] WARNING: ../src/learner.cc:1115: Starting in XGBoost 1.3.0, the default evaluation metric used with the objective 'binary:logistic' was changed from 'error' to 'logloss'. Explicitly set eval_metric if you'd like to restore the old behavior.\n",
      "roc_auc_score\n",
      "0.5340567063763058\n"
     ]
    },
    {
     "data": {
      "image/png": "[encoded data removed]",
      "text/plain": [
       "<Figure size 432x288 with 1 Axes>"
      ]
     },
     "metadata": {
      "needs_background": "light"
     },
     "output_type": "display_data"
    }
   ],
   "source": [
    "import xgboost as xgb\n",
    "\n",
    "\n",
    "clf = xgb.XGBClassifier() # AD Model\n",
    "clf_mean_accuracy, max_acc_data_train, max_acc_data_test, max_acc_targets_train, max_acc_targets_test,clf_scores = k_fold_cross_validation(X_train, y_train, clf, \"XGB\") # cross-validation\n",
    "evaluate(max_acc_data_train, max_acc_data_test, max_acc_targets_train, max_acc_targets_test, y_train, clf) #  confusion matrix\n",
    "\n",
    "## Comparision through graphs\n",
    "\n",
    "\n",
    "\n",
    "## argument has accuracy values\n",
    "plt.plot(clf_scores,color='r',label=\" XGBClassifier\")\n",
    "plt.legend(loc=\"best\")\n",
    "\n",
    "plt.title(\"Accuracy accross each fold\") ## Setting subtitle of fig 1\n",
    "plt.xlabel(\"Folds\") ## Setting x-label of fig 1\n",
    "plt.ylabel(\"Accuracy\"); ## Setting y-label of fig 1"
   ]
  },
  {
   "cell_type": "markdown",
   "id": "cb26c38a",
   "metadata": {},
   "source": [
    "## Blending Model:"
   ]
  },
  {
   "cell_type": "code",
   "execution_count": 41,
   "id": "20258d90",
   "metadata": {},
   "outputs": [],
   "source": [
    "\n",
    "from numpy import hstack\n",
    "from sklearn.linear_model import LogisticRegression\n",
    "from sklearn.ensemble import RandomForestClassifier\n",
    "from sklearn.model_selection import train_test_split\n",
    "\n",
    "def get_classifiers():\n",
    "    \"\"\"Function to add the classifiers that we want to keep in our blending model\"\"\"\n",
    "    classifiers = []\n",
    "    classifiers.append(('lr', LogisticRegression()))\n",
    "    classifiers.append(('xgb', xgb.XGBClassifier()))\n",
    "    classifiers.append(('cart', DecisionTreeClassifier()))\n",
    "    classifiers.append(('Adb', AdaBoostClassifier()))\n",
    "    classifiers.append(('Rf', RandomForestClassifier()))\n",
    "    return classifiers\n",
    "\n",
    "def fit_blending_model(classifiers, X_train_full, y_train_full):\n",
    "    \"\"\"\n",
    "    This function will perform the following steps\n",
    "    \n",
    "    \n",
    "    1 Creates a validation set using 20% of the training set\n",
    "    2 Trains each of your chosen classifiers on the training set\n",
    "    3 Using the validation set creates a new dataset where features are predictions made by each of your chosen classifiers\n",
    "    4 Trains a logistic regression classifier to blend the predictions\n",
    "\n",
    "\n",
    "    \"\"\"\n",
    "    \n",
    "    # split training set into train and validation sets\n",
    "    X_train, X_val, y_train, y_val = train_test_split(X_train_full, y_train_full, test_size=0.2, random_state=1)\n",
    "\n",
    "\n",
    "    # fit all classifiers on the training set and predict on hold out set\n",
    "    new_features = list()\n",
    "    for name, model in classifiers:\n",
    "        # fit in training set\n",
    "        model.fit(X_train, y_train)\n",
    "        # predict on hold out set\n",
    "        y_preds = model.predict(X_val)\n",
    "        # reshape predictions into a matrix with one column\n",
    "        y_preds = y_preds.reshape(len(y_preds), 1)\n",
    "        # store predictions as input for blending\n",
    "        new_features.append(y_preds)\n",
    "    # create 2d array from predictions, each set is an input feature\n",
    "    new_features = hstack(new_features)\n",
    "    # define blending model\n",
    "    clf_blender = LogisticRegression()\n",
    "    # fit on predictions from base classifiers\n",
    "    clf_blender.fit(new_features, y_val)\n",
    "    return clf_blender\n",
    "\n",
    "def prediction_using_blending(classifiers, clf_blender, X_test):\n",
    "    # make predictions with base classifiers\n",
    "    new_features = list()\n",
    "    for name, model in classifiers:\n",
    "        # predict with base clf\n",
    "        y_preds = model.predict(X_test)\n",
    "        y_preds = y_preds.reshape(len(y_preds), 1)\n",
    "        new_features.append(y_preds)\n",
    "    new_features = hstack(new_features)\n",
    "    # predict\n",
    "    return clf_blender.predict(new_features)\n"
   ]
  },
  {
   "cell_type": "code",
   "execution_count": 42,
   "id": "3b151b55",
   "metadata": {},
   "outputs": [
    {
     "name": "stdout",
     "output_type": "stream",
     "text": [
      "[15:28:50] WARNING: ../src/learner.cc:1115: Starting in XGBoost 1.3.0, the default evaluation metric used with the objective 'binary:logistic' was changed from 'error' to 'logloss'. Explicitly set eval_metric if you'd like to restore the old behavior.\n",
      "Blending AUC score: 51.958\n",
      "Blending Accuracy: 80.463\n"
     ]
    }
   ],
   "source": [
    "# split dataset into train and test sets\n",
    "X_train_full, X_test, y_train_full, y_test = train_test_split(X_train, y_train, test_size=0.3, random_state=1)\n",
    "# create the base classifiers\n",
    "classifiers = get_classifiers()\n",
    "# train the blending ensemble\n",
    "clf_blender = fit_blending_model(classifiers, X_train_full, y_train_full)\n",
    "# make predictions on test set\n",
    "y_preds = prediction_using_blending(classifiers, clf_blender, X_test)\n",
    "# evaluate predictions\n",
    "score = roc_auc_score(y_test, y_preds)\n",
    "acc = accuracy_score(y_test, y_preds)\n",
    "\n",
    "print('Blending AUC score: %.3f' % (score*100))\n",
    "print('Blending Accuracy: %.3f' % (acc*100))"
   ]
  }
 ],
 "metadata": {
  "kernelspec": {
   "display_name": "Python 3",
   "language": "python",
   "name": "python3"
  },
  "language_info": {
   "codemirror_mode": {
    "name": "ipython",
    "version": 3
   },
   "file_extension": ".py",
   "mimetype": "text/x-python",
   "name": "python",
   "nbconvert_exporter": "python",
   "pygments_lexer": "ipython3",
   "version": "3.8.8"
  }
 },
 "nbformat": 4,
 "nbformat_minor": 5
}
